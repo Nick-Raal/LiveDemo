{
 "cells": [
  {
   "cell_type": "markdown",
   "metadata": {
    "editable": true,
    "id": "95Y9LC5uzkeS",
    "jp-MarkdownHeadingCollapsed": true,
    "slideshow": {
     "slide_type": "notes"
    },
    "tags": []
   },
   "source": [
    "## Key Parameters:\n",
    "\n",
    "3 components (representing 3 market regimes)\n",
    "Fixed random seed (42) for reproducible results\n",
    "\n",
    "Input Features for BTC+DXY Model:\n",
    "When btc_only=False, it uses 4 features:\n",
    "\n",
    "BTC_ret - Bitcoin returns\n",
    "DXY_ret - US Dollar Index returns\n",
    "BTC_vol - Bitcoin volatility (4-period rolling standard deviation)\n",
    "DXY_vol - DXY volatility (4-period rolling standard deviation)\n",
    "\n",
    "## Preprocessing:\n",
    "\n",
    "StandardScaler - Normalizes all features to have mean=0, std=1\n",
    "This is crucial for GMM since it assumes features are on similar scales\n",
    "\n",
    "## Training Process:\n",
    "\n",
    "Fit GMM on the 4 standardized features\n",
    "Predict regimes (0, 1, or 2) for each time period\n",
    "Dynamic labeling - Maps regime numbers to meaningful names based on average Bitcoin returns:\n",
    "\n",
    "Lowest avg BTC return → \"Risk-Off\"\n",
    "Middle avg BTC return → \"Neutral\"\n",
    "Highest avg BTC return → \"Risk-On\"\n",
    "\n",
    "## Walk-Forward Implementation:\n",
    "\n",
    "Retrains every 3 months with expanding window of data\n",
    "Uses all historical data up to current period for training\n",
    "Prevents look-ahead bias by never using future data\n",
    "\n",
    "## Reason for GMM?\n",
    "Unsupervised - No need for labeled training data\n",
    "Probabilistic - Can handle overlapping market conditions\n",
    "Flexible - Can capture complex, non-linear relationships between BTC and DXY\n",
    "Regime-based - Naturally segments market into distinct behavioral periods\n",
    "\n",
    "The model essentially learns to identify when Bitcoin and the Dollar Index are in different \"relationship modes\" and trades accordingly."
   ]
  },
  {
   "cell_type": "markdown",
   "metadata": {
    "editable": true,
    "id": "rY21S_lOIEo-",
    "slideshow": {
     "slide_type": "slide"
    },
    "tags": []
   },
   "source": [
    "# The Model"
   ]
  },
  {
   "cell_type": "code",
   "execution_count": 1,
   "metadata": {
    "editable": true,
    "jupyter": {
     "source_hidden": true
    },
    "slideshow": {
     "slide_type": "skip"
    },
    "tags": []
   },
   "outputs": [],
   "source": [
    "import warnings\n",
    "warnings.filterwarnings('ignore')"
   ]
  },
  {
   "cell_type": "markdown",
   "metadata": {
    "id": "TEfZE4StIKRL"
   },
   "source": [
    "Imports"
   ]
  },
  {
   "cell_type": "code",
   "execution_count": 2,
   "metadata": {
    "editable": true,
    "id": "kKBlnF1RIJUR",
    "jupyter": {
     "source_hidden": true
    },
    "slideshow": {
     "slide_type": "subslide"
    },
    "tags": []
   },
   "outputs": [],
   "source": [
    "import pandas as pd\n",
    "import numpy as np\n",
    "import matplotlib.pyplot as plt\n",
    "from sklearn.mixture import GaussianMixture\n",
    "from sklearn.preprocessing import StandardScaler\n",
    "from sklearn.ensemble import RandomForestClassifier\n",
    "from sklearn.model_selection import train_test_split\n",
    "from dateutil.relativedelta import relativedelta\n",
    "import gdown"
   ]
  },
  {
   "cell_type": "markdown",
   "metadata": {
    "editable": true,
    "id": "JOpF3HQNJwSX",
    "slideshow": {
     "slide_type": "subslide"
    },
    "tags": []
   },
   "source": [
    "## Helper Functions"
   ]
  },
  {
   "cell_type": "code",
   "execution_count": 3,
   "metadata": {
    "editable": true,
    "id": "6S_kSDSO0db-",
    "jupyter": {
     "source_hidden": true
    },
    "slideshow": {
     "slide_type": "subslide"
    },
    "tags": []
   },
   "outputs": [],
   "source": [
    "def load_data(btc_path, dxy_path):\n",
    "    btc_df = pd.read_csv(btc_path)\n",
    "    dxy_df = pd.read_csv(dxy_path)\n",
    "\n",
    "    btc_df['Date'] = pd.to_datetime(btc_df['Date'])\n",
    "    btc_df['Price'] = btc_df['Price'].astype(str).str.replace(',', '').str.replace('$', '')\n",
    "    btc_df['Price'] = pd.to_numeric(btc_df['Price'], errors='coerce')\n",
    "    btc_df = btc_df.dropna(subset=['Price']).sort_values('Date')\n",
    "\n",
    "    dxy_df['Date'] = pd.to_datetime(dxy_df['Date'])\n",
    "    dxy_df['Price'] = pd.to_numeric(dxy_df['Price'], errors='coerce')\n",
    "    dxy_df = dxy_df.dropna(subset=['Price']).sort_values('Date')\n",
    "\n",
    "    print(f\"Original DXY data: {len(dxy_df)} days\")\n",
    "    print(f\"Bitcoin date range: {len(btc_df)} days\")\n",
    "    print(f\"DXY date range: {dxy_df['Date'].min()} to {dxy_df['Date'].max()}\")\n",
    "    print(f\"BTC date range: {btc_df['Date'].min()} to {btc_df['Date'].max()}\")\n",
    "\n",
    "    # Check if we have overlapping data\n",
    "    overlap_start = max(btc_df['Date'].min(), dxy_df['Date'].min())\n",
    "    overlap_end = min(btc_df['Date'].max(), dxy_df['Date'].max())\n",
    "\n",
    "    if overlap_start > overlap_end:\n",
    "        print(\"ERROR: No overlapping dates between BTC and DXY data!\")\n",
    "        return pd.DataFrame()\n",
    "\n",
    "    print(f\"Overlapping period: {overlap_start} to {overlap_end}\")\n",
    "\n",
    "    # Filter both datasets to overlapping period only\n",
    "    btc_overlap = btc_df[(btc_df['Date'] >= overlap_start) & (btc_df['Date'] <= overlap_end)]\n",
    "    dxy_overlap = dxy_df[(dxy_df['Date'] >= overlap_start) & (dxy_df['Date'] <= overlap_end)]\n",
    "\n",
    "    print(f\"BTC data in overlap: {len(btc_overlap)} days\")\n",
    "    print(f\"DXY data in overlap: {len(dxy_overlap)} days\")\n",
    "\n",
    "    # Create complete date range for overlapping period\n",
    "    date_range = pd.date_range(start=overlap_start, end=overlap_end, freq='D')\n",
    "\n",
    "    # Reindex DXY to include all dates and interpolate\n",
    "    dxy_indexed = dxy_overlap.set_index('Date')\n",
    "    dxy_complete = dxy_indexed.reindex(date_range)\n",
    "\n",
    "    # Fix deprecation warning - use ffill() and bfill()\n",
    "    dxy_complete['Price'] = dxy_complete['Price'].interpolate(method='linear')\n",
    "    dxy_complete['Price'] = dxy_complete['Price'].ffill().bfill()\n",
    "\n",
    "    # Reset index properly\n",
    "    dxy_complete = dxy_complete.reset_index()\n",
    "    dxy_complete = dxy_complete.rename(columns={'index': 'Date', 'Price': 'DXY'})\n",
    "\n",
    "    # Merge with BTC data\n",
    "    merged = pd.merge(\n",
    "        btc_overlap[['Date', 'Price']].rename(columns={'Price': 'BTC'}),\n",
    "        dxy_complete[['Date', 'DXY']],\n",
    "        on='Date',\n",
    "        how='inner'\n",
    "    )\n",
    "\n",
    "    print(f\"Final merged dataset: {len(merged)} days\")\n",
    "    return merged.dropna()"
   ]
  },
  {
   "cell_type": "code",
   "execution_count": 4,
   "metadata": {
    "editable": true,
    "jupyter": {
     "source_hidden": true
    },
    "slideshow": {
     "slide_type": "subslide"
    },
    "tags": []
   },
   "outputs": [],
   "source": [
    "    # Compute returns and volatility\n",
    "def compute_features(df):\n",
    "    df['BTC_ret'] = df['BTC'].pct_change()\n",
    "    df['DXY_ret'] = df['DXY'].pct_change()\n",
    "    df['BTC_vol'] = df['BTC_ret'].rolling(4).std()\n",
    "    df['DXY_vol'] = df['DXY_ret'].rolling(4).std()\n",
    "    df['volume'] = df['BTC'].rolling(2).mean()\n",
    "    return df.dropna()"
   ]
  },
  {
   "cell_type": "code",
   "execution_count": 5,
   "metadata": {
    "editable": true,
    "jupyter": {
     "source_hidden": true
    },
    "slideshow": {
     "slide_type": "subslide"
    },
    "tags": []
   },
   "outputs": [],
   "source": [
    "# Dynamic regime labeling\n",
    "def dynamic_regime_labels(train_df, regimes):\n",
    "    df = train_df.copy()\n",
    "    df['Regime'] = regimes\n",
    "    means = df.groupby('Regime')['BTC_ret'].mean()\n",
    "    sorted_regimes = means.sort_values()\n",
    "    regime_summary = pd.DataFrame({\n",
    "        'Regime': sorted_regimes.index,\n",
    "        'Mean_Return': sorted_regimes.values,\n",
    "        'Date': train_df['Date'].max()\n",
    "    })\n",
    "    labels = {sorted_regimes.index[0]: 'Risk-Off',\n",
    "              sorted_regimes.index[1]: 'Neutral',\n",
    "              sorted_regimes.index[2]: 'Risk-On'}\n",
    "    return labels, regime_summary"
   ]
  },
  {
   "cell_type": "code",
   "execution_count": 6,
   "metadata": {
    "editable": true,
    "jupyter": {
     "source_hidden": true
    },
    "slideshow": {
     "slide_type": "subslide"
    },
    "tags": []
   },
   "outputs": [],
   "source": [
    "# Apply trained model\n",
    "def apply_model(test_df, gmm, scaler, regime_labels, btc_only=False):\n",
    "    if btc_only:\n",
    "        features = test_df[['BTC_ret', 'BTC_vol']].values\n",
    "    else:\n",
    "        features = test_df[['BTC_ret', 'DXY_ret', 'BTC_vol', 'DXY_vol']].values\n",
    "    features_scaled = scaler.transform(features)\n",
    "    regimes = gmm.predict(features_scaled)\n",
    "    test_df['Regime'] = regimes\n",
    "    test_df['Regime_Label'] = test_df['Regime'].map(regime_labels)\n",
    "    return test_df\n",
    "\n",
    "    "
   ]
  },
  {
   "cell_type": "code",
   "execution_count": 7,
   "metadata": {
    "editable": true,
    "jupyter": {
     "source_hidden": true
    },
    "slideshow": {
     "slide_type": "subslide"
    },
    "tags": []
   },
   "outputs": [],
   "source": [
    "# GMM regime model\n",
    "def train_regime_model(train_df, btc_only=False):\n",
    "    if btc_only:\n",
    "        features = train_df[['BTC_ret', 'BTC_vol']].values\n",
    "    else:\n",
    "        features = train_df[['BTC_ret', 'DXY_ret', 'BTC_vol', 'DXY_vol']].values\n",
    "    scaler = StandardScaler()\n",
    "    features_scaled = scaler.fit_transform(features)\n",
    "    gmm = GaussianMixture(n_components=3, random_state=42)\n",
    "    regimes = gmm.fit_predict(features_scaled)\n",
    "    regime_labels, regime_summary = dynamic_regime_labels(train_df, regimes)\n",
    "    return gmm, scaler, regime_labels, regime_summary"
   ]
  },
  {
   "cell_type": "code",
   "execution_count": 8,
   "metadata": {
    "editable": true,
    "jupyter": {
     "source_hidden": true
    },
    "slideshow": {
     "slide_type": "subslide"
    },
    "tags": []
   },
   "outputs": [],
   "source": [
    "# Walkforward GMM regime model - FIXED VERSION\n",
    "def walkforward_markov(test_df, train_df, btc_only=False, freq_months=3):\n",
    "    output = []\n",
    "    regime_summaries = []\n",
    "    initial_train_end = train_df['Date'].max()\n",
    "    test_start = test_df['Date'].min()\n",
    "    cursor = test_start\n",
    "    end_date = test_df['Date'].max()\n",
    "    while cursor < end_date:\n",
    "        test_end = cursor + relativedelta(months=freq_months)\n",
    "        current_train = pd.concat([\n",
    "            train_df[train_df['Date'] < cursor],\n",
    "            test_df[test_df['Date'] < cursor]\n",
    "        ]).drop_duplicates().sort_values('Date')\n",
    "        current_test = test_df[(test_df['Date'] >= cursor) & (test_df['Date'] < test_end)]\n",
    "        if len(current_train) < 20 or len(current_test) < 1:\n",
    "            cursor += relativedelta(months=freq_months)\n",
    "            continue\n",
    "        gmm, scaler, regime_labels, regime_summary = train_regime_model(current_train, btc_only)\n",
    "        regime_summaries.append(regime_summary)\n",
    "        labeled = apply_model(current_test.copy(), gmm, scaler, regime_labels, btc_only)\n",
    "        output.append(labeled)\n",
    "        cursor += relativedelta(months=freq_months)\n",
    "    final_df = pd.concat(output).sort_values('Date') if output else test_df\n",
    "    all_summaries = pd.concat(regime_summaries).reset_index(drop=True)\n",
    "    return final_df, gmm, all_summaries"
   ]
  },
  {
   "cell_type": "code",
   "execution_count": 9,
   "metadata": {
    "editable": true,
    "jupyter": {
     "source_hidden": true
    },
    "slideshow": {
     "slide_type": "subslide"
    },
    "tags": []
   },
   "outputs": [],
   "source": [
    "# FIXED: Simulate strategy with proper capital tracking\n",
    "def simulate_strategy(df, strategy_column, budget=100000, max_trades=300, fee=0.001):\n",
    "    df = df.copy()  # Work on a copy to avoid modifying original\n",
    "    trades = 0\n",
    "    capital = budget\n",
    "    capital_history = []\n",
    "    for idx, row in df.iterrows():\n",
    "        r = row[strategy_column]\n",
    "        if strategy_column not in row or pd.isna(r):\n",
    "            capital_history.append(capital)\n",
    "            continue\n",
    "        if trades >= max_trades:\n",
    "            capital_history.append(capital)\n",
    "            continue\n",
    "        if abs(r) < 0.01:  # Skip small movements\n",
    "            capital_history.append(capital)\n",
    "            continue\n",
    "        # Apply return with fees (2x fee for round-trip)\n",
    "        #capital *= (1 + r) * (1 - 2 * fee)\n",
    "        position_size = 1  # Only use 50% of capital per trade\n",
    "        position_return = r * position_size\n",
    "        capital += capital * position_return * (1 - 2 * fee)\n",
    "        trades += 1\n",
    "        capital_history.append(capital)\n",
    "    # Ensure we have the right number of capital values\n",
    "    if len(capital_history) != len(df):\n",
    "        print(f\"Warning: Length mismatch - capital_history: {len(capital_history)}, df: {len(df)}\")\n",
    "        # Pad or truncate as needed\n",
    "        while len(capital_history) < len(df):\n",
    "            capital_history.append(capital_history[-1] if capital_history else budget)\n",
    "        capital_history = capital_history[:len(df)]\n",
    "    df[strategy_column + '_Capital'] = capital_history\n",
    "    # Create trade log for reference\n",
    "    trade_log = [(i, capital_history[i]) for i in range(len(capital_history)) if i == 0 or capital_history[i] != capital_history[i-1]]\n",
    "    return df, trade_log"
   ]
  },
  {
   "cell_type": "code",
   "execution_count": 10,
   "metadata": {
    "editable": true,
    "jupyter": {
     "source_hidden": true
    },
    "slideshow": {
     "slide_type": "subslide"
    },
    "tags": []
   },
   "outputs": [],
   "source": [
    "# Metrics\n",
    "def get_metrics(df, capital_column):\n",
    "    capital = df[capital_column]\n",
    "    returns = capital.pct_change().dropna()\n",
    "    sharpe = returns.mean() / returns.std() * np.sqrt(365) if returns.std() > 0 else 0\n",
    "    drawdown = (capital / capital.cummax()) - 1\n",
    "    max_dd = drawdown.min()\n",
    "    total_return = (capital.iloc[-1] / capital.iloc[0]) - 1\n",
    "    return sharpe, max_dd, total_return\n",
    "def compare_regime_models(ml_dxy, ml_btc):\n",
    "    \"\"\"\n",
    "    Compare regime classifications between DXY+BTC and BTC-only models\n",
    "    \"\"\"\n",
    "    print(\"\\n\" + \"=\"*60)\n",
    "    print(\"REGIME COMPARISON: DXY+BTC vs BTC-ONLY\")\n",
    "    print(\"=\"*60)\n",
    "    dxy_btc_regimes = ml_dxy['Regime_Label'].value_counts()\n",
    "    btc_only_regimes = ml_btc['Regime_Label'].value_counts()\n",
    "    comparison_df = pd.DataFrame({\n",
    "        'DXY+BTC Model': dxy_btc_regimes,\n",
    "        'BTC-Only Model': btc_only_regimes\n",
    "    }).fillna(0)\n",
    "    comparison_df['DXY+BTC %'] = (comparison_df['DXY+BTC Model'] / comparison_df['DXY+BTC Model'].sum()) * 100\n",
    "    comparison_df['BTC-Only %'] = (comparison_df['BTC-Only Model'] / comparison_df['BTC-Only Model'].sum()) * 100\n",
    "    print(\"\\nRegime Distribution Comparison:\")\n",
    "    print(comparison_df.round(1))\n",
    "    # Analyze regime agreement\n",
    "    regime_agreement = ml_dxy['Regime_Label'] == ml_btc['Regime_Label']\n",
    "    agreement_rate = regime_agreement.mean() * 100\n",
    "    print(f\"\\nModel Agreement: {agreement_rate:.1f}% of periods have same regime classification\")\n",
    "    if agreement_rate < 70:\n",
    "        print(\"Low agreement suggests DXY data significantly changes regime identification\")\n",
    "    elif agreement_rate > 85:\n",
    "        print(\"High agreement suggests DXY adds minimal regime information\")\n",
    "    else:\n",
    "        print(\"Moderate agreement suggests DXY provides useful but not dominant regime signals\")"
   ]
  },
  {
   "cell_type": "markdown",
   "metadata": {
    "editable": true,
    "id": "sjP9raALJzxA",
    "slideshow": {
     "slide_type": "slide"
    },
    "tags": []
   },
   "source": [
    "## Download and Prepare Data"
   ]
  },
  {
   "cell_type": "code",
   "execution_count": 11,
   "metadata": {
    "colab": {
     "base_uri": "https://localhost:8080/"
    },
    "editable": true,
    "id": "md5V6EuBJuoF",
    "jupyter": {
     "source_hidden": true
    },
    "outputId": "c9fe2107-d2ca-4a71-b5d8-5689cf5c3d77",
    "slideshow": {
     "slide_type": "subslide"
    },
    "tags": []
   },
   "outputs": [],
   "source": [
    "# File IDs from shared Google Drive files\n",
    "btc_train_id = '1HUjG7uls0IM5vMHhvbstNzo8gYJrGb5m'\n",
    "dxy_train_id = '15XwX1v55VyO9DOzXmXvUwQp26m4tf64h'\n",
    "btc_test_id  = '1FDPzI0BkEGBGukFhXqHy_O0Sa7jzx4Uq'\n",
    "dxy_test_id  = '1ULkN0o_wNmqQA5U8rlwF-Jt7yOSUo9Fj'"
   ]
  },
  {
   "cell_type": "code",
   "execution_count": 12,
   "metadata": {
    "editable": true,
    "jupyter": {
     "source_hidden": true
    },
    "slideshow": {
     "slide_type": "fragment"
    },
    "tags": []
   },
   "outputs": [
    {
     "name": "stderr",
     "output_type": "stream",
     "text": [
      "Downloading...\n",
      "From: https://drive.google.com/uc?id=1HUjG7uls0IM5vMHhvbstNzo8gYJrGb5m\n",
      "To: /Users/nichomac/Documents/ml/btc_train.csv\n",
      "100%|███████████████████████████████████████████████████████████████████| 3.97k/3.97k [00:00<00:00, 5.01MB/s]\n",
      "Downloading...\n",
      "From: https://drive.google.com/uc?id=15XwX1v55VyO9DOzXmXvUwQp26m4tf64h\n",
      "To: /Users/nichomac/Documents/ml/dxy_train.csv\n",
      "100%|███████████████████████████████████████████████████████████████████| 2.99k/2.99k [00:00<00:00, 7.84MB/s]\n",
      "Downloading...\n",
      "From: https://drive.google.com/uc?id=1FDPzI0BkEGBGukFhXqHy_O0Sa7jzx4Uq\n",
      "To: /Users/nichomac/Documents/ml/btc_test.csv\n",
      "100%|███████████████████████████████████████████████████████████████████| 95.6k/95.6k [00:00<00:00, 1.22MB/s]\n",
      "Downloading...\n",
      "From: https://drive.google.com/uc?id=1ULkN0o_wNmqQA5U8rlwF-Jt7yOSUo9Fj\n",
      "To: /Users/nichomac/Documents/ml/dxy_test.csv\n",
      "100%|███████████████████████████████████████████████████████████████████| 54.2k/54.2k [00:00<00:00, 1.05MB/s]\n"
     ]
    }
   ],
   "source": [
    "# Download files into Colab local environment\n",
    "gdown.download(f'https://drive.google.com/uc?id={btc_train_id}', 'btc_train.csv', quiet=False)\n",
    "gdown.download(f'https://drive.google.com/uc?id={dxy_train_id}', 'dxy_train.csv', quiet=False)\n",
    "gdown.download(f'https://drive.google.com/uc?id={btc_test_id}', 'btc_test.csv', quiet=False)\n",
    "gdown.download(f'https://drive.google.com/uc?id={dxy_test_id}', 'dxy_test.csv', quiet=False)\n",
    "\n",
    "train_path_btc = 'btc_train.csv'\n",
    "train_path_dxy = 'dxy_train.csv'\n",
    "test_path_btc = 'btc_test.csv'\n",
    "test_path_dxy = 'dxy_test.csv'"
   ]
  },
  {
   "cell_type": "code",
   "execution_count": 13,
   "metadata": {
    "editable": true,
    "jupyter": {
     "source_hidden": true
    },
    "slideshow": {
     "slide_type": "fragment"
    },
    "tags": []
   },
   "outputs": [
    {
     "name": "stdout",
     "output_type": "stream",
     "text": [
      "Original DXY data: 52 days\n",
      "Bitcoin date range: 52 days\n",
      "DXY date range: 2021-01-03 00:00:00 to 2021-12-26 00:00:00\n",
      "BTC date range: 2021-01-03 00:00:00 to 2021-12-26 00:00:00\n",
      "Overlapping period: 2021-01-03 00:00:00 to 2021-12-26 00:00:00\n",
      "BTC data in overlap: 52 days\n",
      "DXY data in overlap: 52 days\n",
      "Final merged dataset: 52 days\n",
      "Original DXY data: 901 days\n",
      "Bitcoin date range: 1272 days\n",
      "DXY date range: 2022-01-03 00:00:00 to 2025-06-25 00:00:00\n",
      "BTC date range: 2022-01-01 00:00:00 to 2025-06-25 00:00:00\n",
      "Overlapping period: 2022-01-03 00:00:00 to 2025-06-25 00:00:00\n",
      "BTC data in overlap: 1270 days\n",
      "DXY data in overlap: 901 days\n",
      "Final merged dataset: 1270 days\n"
     ]
    }
   ],
   "source": [
    "# Load and prepare data\n",
    "train_df = load_data(train_path_btc, train_path_dxy)\n",
    "test_df = load_data(test_path_btc, test_path_dxy)\n",
    "train_df = compute_features(train_df)\n",
    "test_df = compute_features(test_df)"
   ]
  },
  {
   "cell_type": "code",
   "execution_count": 14,
   "metadata": {
    "editable": true,
    "jupyter": {
     "source_hidden": true
    },
    "slideshow": {
     "slide_type": "subslide"
    },
    "tags": []
   },
   "outputs": [
    {
     "name": "stdout",
     "output_type": "stream",
     "text": [
      "Data loaded - Train: 48 samples, Test: 1266 samples\n",
      "Test period: 2022-01-07 00:00:00 to 2025-06-25 00:00:00\n"
     ]
    }
   ],
   "source": [
    "def classify_three_regimes(df, dxy_col='DXY'):\n",
    "    dxy_mean = df[dxy_col].mean()\n",
    "    dxy_std = df[dxy_col].std()\n",
    "\n",
    "    # Optimized thresholds for balanced distribution\n",
    "    risk_on_threshold = dxy_mean - 0.4 * dxy_std  #\n",
    "    risk_off_threshold = dxy_mean + 0.4 * dxy_std  #\n",
    "\n",
    "    def get_regime(dxy_val):\n",
    "        if dxy_val < risk_on_threshold:\n",
    "            return 'Risk-On'\n",
    "        elif dxy_val > risk_off_threshold:\n",
    "            return 'Risk-Off'\n",
    "        else:\n",
    "            return 'Neutral'\n",
    "\n",
    "    df['Regime_Label'] = df[dxy_col].apply(get_regime)\n",
    "    return df, risk_on_threshold, risk_off_threshold\n",
    "\n",
    "test_df, r_on_thresh, r_off_thresh = classify_three_regimes(test_df)\n",
    "\n",
    "\n",
    "print(f\"Data loaded - Train: {len(train_df)} samples, Test: {len(test_df)} samples\")\n",
    "print(f\"Test period: {test_df['Date'].min()} to {test_df['Date'].max()}\")"
   ]
  },
  {
   "cell_type": "markdown",
   "metadata": {
    "editable": true,
    "id": "Ya9Cv7_7vHy9",
    "slideshow": {
     "slide_type": "slide"
    },
    "tags": []
   },
   "source": [
    "Strategies"
   ]
  },
  {
   "cell_type": "code",
   "execution_count": 15,
   "metadata": {
    "colab": {
     "base_uri": "https://localhost:8080/"
    },
    "editable": true,
    "id": "qUbQlEIJ9VgY",
    "jupyter": {
     "source_hidden": true
    },
    "outputId": "cb7d18c3-00a1-4bbf-c351-8d12e02833e5",
    "slideshow": {
     "slide_type": "subslide"
    },
    "tags": []
   },
   "outputs": [],
   "source": [
    "# Strategy 1 & 2: ML with walk-forward (DXY+BTC and BTC-only)\n",
    "global ml_dxy, gmm_dxy, regime_boundaries_dxy\n",
    "ml_dxy, gmm_dxy, regime_boundaries_dxy = walkforward_markov(test_df.copy(), train_df.copy(), btc_only=False, freq_months=3)\n",
    "\n",
    "global ml_btc, gmm_btc, regime_boundaries_btc\n",
    "ml_btc, gmm_btc, regime_boundaries_btc = walkforward_markov(test_df.copy(), train_df.copy(), btc_only=True, freq_months=3)"
   ]
  },
  {
   "cell_type": "code",
   "execution_count": 16,
   "metadata": {
    "editable": true,
    "jupyter": {
     "source_hidden": true
    },
    "slideshow": {
     "slide_type": "subslide"
    },
    "tags": []
   },
   "outputs": [],
   "source": [
    "def run_models(b):\n",
    "    global ml_dxy, ml_btc  # must come before you read from ml_dxy\n",
    "\n",
    "    ml_dxy.reset_index(drop=False, inplace=True)\n",
    "    ml_btc.reset_index(drop=False, inplace=True)\n",
    "\n",
    "    print('rerunning models')\n",
    "    \n",
    "    # Ensure all strategies cover same time period for fair comparison\n",
    "    common_start = max(\n",
    "        ml_dxy['Date'].min(),\n",
    "        ml_btc['Date'].min()\n",
    "    )\n",
    "    common_end = min(\n",
    "        ml_dxy['Date'].max(),\n",
    "        ml_btc['Date'].max()\n",
    "    )\n",
    "    \n",
    "    print(f\"Common evaluation period: {common_start} to {common_end}\")\n",
    "    \n",
    "    # Filter to common period\n",
    "    ml_dxy = ml_dxy[(ml_dxy['Date'] >= common_start) & (ml_dxy['Date'] <= common_end)]\n",
    "    ml_btc = ml_btc[(ml_btc['Date'] >= common_start) & (ml_btc['Date'] <= common_end)]\n",
    "    \n",
    "    ml_weights_dxy = {'Risk-On': ronslider.value, 'Neutral': 0.0, 'Risk-Off': roffslider.value}\n",
    "    ml_weights_btc = {'Risk-On': ronslider.value, 'Neutral':0.0, 'Risk-Off': roffslider.value}\n",
    "    \n",
    "    ml_dxy['ML_Strategy_DXY'] = ml_dxy['Regime_Label'].map(ml_weights_dxy) * ml_dxy['BTC_ret']\n",
    "    ml_btc['ML_Strategy_BTC'] = ml_btc['Regime_Label'].map(ml_weights_btc) * ml_btc['BTC_ret']\n",
    "    \n",
    "    # Simulate all strategies\n",
    "    ml_dxy, _ = simulate_strategy(ml_dxy, 'ML_Strategy_DXY')\n",
    "    ml_btc, _ = simulate_strategy(ml_btc, 'ML_Strategy_BTC')\n",
    "\n",
    "    ml_dxy = ml_dxy.set_index('Date').sort_index()\n",
    "    ml_btc = ml_btc.set_index('Date').sort_index()\n",
    "\n",
    "    try:\n",
    "        update_plot()\n",
    "    except NameError:\n",
    "        pass  # or log a message"
   ]
  },
  {
   "cell_type": "code",
   "execution_count": 17,
   "metadata": {
    "editable": true,
    "id": "4gfSEalUKuIr",
    "slideshow": {
     "slide_type": "subslide"
    },
    "tags": []
   },
   "outputs": [],
   "source": [
    "import ipywidgets as widgets\n",
    "from IPython.display import display\n",
    "\n",
    "ronslider = widgets.FloatSlider(description=\"Risk-On\",\n",
    "    value=0.5,        # default value\n",
    "    min=0.0,          # lower bound\n",
    "    max=1.0,          # upper bound)\n",
    ")\n",
    "roffslider = widgets.FloatSlider(description=\"Risk-Off\",\n",
    "    value=-0.25,        # default value\n",
    "    min=-1.0,          # lower bound\n",
    "    max=0.0,          # upper bound\n",
    ")\n",
    "\n",
    "rerun = widgets.Button(description='Rerun Models',\n",
    "                       disabled=False,\n",
    "                       tooltip='Rerun Models',\n",
    "                       icon='check')\n",
    "rerun.on_click(run_models)"
   ]
  },
  {
   "cell_type": "code",
   "execution_count": 18,
   "metadata": {
    "colab": {
     "base_uri": "https://localhost:8080/",
     "height": 1000
    },
    "collapsed": true,
    "editable": true,
    "id": "qXyT1aGfMKXW",
    "jupyter": {
     "outputs_hidden": true
    },
    "outputId": "9d068e67-9eb2-403a-8a10-d3049ff91972",
    "scrolled": true,
    "slideshow": {
     "slide_type": "skip"
    },
    "tags": []
   },
   "outputs": [
    {
     "name": "stdout",
     "output_type": "stream",
     "text": [
      "rerunning models\n",
      "Common evaluation period: 2022-01-07 00:00:00 to 2025-06-25 00:00:00\n"
     ]
    }
   ],
   "source": [
    "run_models(rerun)"
   ]
  },
  {
   "cell_type": "markdown",
   "metadata": {
    "editable": true,
    "slideshow": {
     "slide_type": "slide"
    },
    "tags": []
   },
   "source": [
    "# Visualization"
   ]
  },
  {
   "cell_type": "code",
   "execution_count": 21,
   "metadata": {
    "editable": true,
    "slideshow": {
     "slide_type": "subslide"
    },
    "tags": []
   },
   "outputs": [
    {
     "data": {
      "application/vnd.jupyter.widget-view+json": {
       "model_id": "d1182c952f14494d8d1cf0f84e47554b",
       "version_major": 2,
       "version_minor": 0
      },
      "text/plain": [
       "HBox(children=(Dropdown(description='Model Choice:', options=('DXY+BTC', 'BTC'), value='DXY+BTC'), ToggleButto…"
      ]
     },
     "metadata": {},
     "output_type": "display_data"
    },
    {
     "data": {
      "application/vnd.jupyter.widget-view+json": {
       "model_id": "936018b6c93d4bfabedc29a2128ed7e6",
       "version_major": 2,
       "version_minor": 0
      },
      "text/plain": [
       "Output()"
      ]
     },
     "metadata": {},
     "output_type": "display_data"
    },
    {
     "data": {
      "application/vnd.jupyter.widget-view+json": {
       "model_id": "6fe1f8532c7f4513bd1c67673aedf1d7",
       "version_major": 2,
       "version_minor": 0
      },
      "text/plain": [
       "VBox(children=(HBox(children=(IntSlider(value=0, description='Index', max=1166), Button(description='Step Forw…"
      ]
     },
     "metadata": {},
     "output_type": "display_data"
    }
   ],
   "source": [
    "import plotly.graph_objs as go\n",
    "import plotly.io as pio\n",
    "import ipywidgets as widgets\n",
    "from IPython.display import clear_output\n",
    "\n",
    "# Set the correct renderer\n",
    "pio.renderers.default = 'notebook_connected'  # fallback to 'notebook' if this fails\n",
    "\n",
    "# Widgets\n",
    "date_slider = widgets.IntSlider(value=0, min=0, max=len(ml_dxy)-100, step=1, description='Index')\n",
    "step_button = widgets.Button(\n",
    "    description='Step Forward',\n",
    "    disabled=False,\n",
    "    button_style='', # 'success', 'info', 'warning', 'danger' or ''\n",
    "    tooltip='Step Forward Three Months',\n",
    "    icon='forward' # (FontAwesome names without the `fa-` prefix)\n",
    ")\n",
    "time_value = [ml_dxy.index.min()];\n",
    "def button_click(b):\n",
    "    time_value[0] += relativedelta(months=3)\n",
    "    new_pos = ml_dxy.index.get_loc(time_value[0])\n",
    "    date_slider.value = new_pos\n",
    "    update_plot()\n",
    "step_button.on_click(button_click)\n",
    "model_selector = widgets.Dropdown(\n",
    "    options=['DXY+BTC', 'BTC'],\n",
    "    value='DXY+BTC',\n",
    "    description='Model Choice:',\n",
    "    disabled=False,\n",
    ")\n",
    "BTC_DXY_selector = widgets.ToggleButtons(\n",
    "    options=['BTC', 'DXY', 'None'],\n",
    "    description='Extra Plot:',\n",
    "    disabled=False,\n",
    "    button_style='', # 'success', 'info', 'warning', 'danger' or ''\n",
    ")\n",
    "\n",
    "\n",
    "# Output area for the figure\n",
    "out = widgets.Output()\n",
    "\n",
    "def update_plot(change=None):\n",
    "    with out:\n",
    "\n",
    "        selected = model_selector.value\n",
    "        \n",
    "        if selected == 'DXY+BTC':\n",
    "            df = ml_dxy\n",
    "            strategy = 'ML_Strategy_DXY_Capital'\n",
    "        else:\n",
    "            df = ml_btc\n",
    "            strategy = 'ML_Strategy_BTC_Capital'\n",
    "            \n",
    "        clear_output(wait=True)\n",
    "        \n",
    "        start_idx = time_value[0]\n",
    "        window_size = relativedelta(months=3)\n",
    "        end_date = start_idx + relativedelta(months=3)\n",
    "        \n",
    "        df_slice = df.loc[df.index.min():end_date].reset_index()\n",
    "        \n",
    "        fig = go.Figure()\n",
    "        \n",
    "        # Regime to color map\n",
    "        colors = {'Risk-On': '#00D37E', 'Neutral': '#DAA520', 'Risk-Off': '#FF685F'}\n",
    "        added_legends = set()\n",
    "\n",
    "        if BTC_DXY_selector.value == 'BTC':\n",
    "            fig.add_trace(go.Scatter(\n",
    "                x=df_slice['Date'], \n",
    "                y=df_slice['BTC'],\n",
    "                mode='lines',\n",
    "                name='BTC',\n",
    "                yaxis='y2',\n",
    "                line=dict(color='#FD9540')\n",
    "            ))\n",
    "            y2_title = 'BTC'\n",
    "            y2_tickformat='$,.2f'\n",
    "        elif BTC_DXY_selector.value == 'DXY':\n",
    "            fig.add_trace(go.Scatter(\n",
    "                x=df_slice['Date'], \n",
    "                y=df_slice['DXY'],\n",
    "                mode='lines',\n",
    "                name='DXY',\n",
    "                yaxis='y2',\n",
    "                line=dict(color='#00beff')\n",
    "            ))\n",
    "            y2_title='DXY'\n",
    "            y2_tickformat=''\n",
    "\n",
    "        i_tracker = 0  # track position of regime start\n",
    "        currenttracker = df_slice.iloc[i_tracker]\n",
    "        \n",
    "        df_slice = df_slice.copy()\n",
    "        df_slice['Regime_Change'] = (df_slice['Regime_Label'] != df_slice['Regime_Label'].shift()).cumsum()\n",
    "        \n",
    "        # We'll use this to avoid duplicate legends\n",
    "        added_legends = set()\n",
    "        \n",
    "        # To track overlap at boundaries\n",
    "        prev_segment_end = None\n",
    "        \n",
    "        for _, segment in df_slice.groupby('Regime_Change'):\n",
    "            regime = segment['Regime_Label'].iloc[0]\n",
    "            show_legend = regime not in added_legends\n",
    "        \n",
    "            # If there's an overlap point from the previous segment, prepend it\n",
    "            if prev_segment_end is not None:\n",
    "                segment = pd.concat([prev_segment_end, segment])\n",
    "        \n",
    "            # Save last row to use as overlap with the next segment\n",
    "            prev_segment_end = segment.tail(1)\n",
    "        \n",
    "            fig.add_trace(go.Scatter(\n",
    "                x=segment['Date'],\n",
    "                y=segment[strategy],\n",
    "                mode='lines+markers',\n",
    "                name=regime,\n",
    "                marker=dict(size=10),\n",
    "                line=dict(color=colors.get(regime, 'gray'), width=4),\n",
    "                customdata=segment[['BTC_ret', 'Regime_Label']].values,\n",
    "                hoverlabel=dict(\n",
    "                    bgcolor=\"white\",\n",
    "                    font_size=14,\n",
    "                    font_family=\"ABC Whyte Unlicensed Trial\",\n",
    "                    font_color=\"black\"\n",
    "                ),\n",
    "                hovertemplate=\n",
    "                    '<b>Date:</b> %{x|%Y-%m-%d}<br>' +\n",
    "                    '<b>Capital:</b> $%{y:,.2f}<br>' +\n",
    "                    '<b>Strategy:</b> %{customdata[1]}<br>' +\n",
    "                    '<b>BTC Return:</b> %{customdata[0]:.2%}<br>' +\n",
    "                    '<extra></extra>',\n",
    "                showlegend=show_legend\n",
    "            ))\n",
    "        \n",
    "            added_legends.add(regime)\n",
    "\n",
    "        \n",
    "            added_legends.add(regime)\n",
    "\n",
    "            time_value[0] = ml_dxy.index[date_slider.value]\n",
    "\n",
    "\n",
    "        fig.update_layout(\n",
    "            title='Monk Mode',\n",
    "            xaxis_title='Date',\n",
    "            yaxis=dict(title='Capital', tickformat='$,.2f', side='left'),\n",
    "            height=500,\n",
    "            legend=dict(x=0.02, y=1, xanchor='left', yanchor='top',\n",
    "                bgcolor='rgba(255,255,255,0.5)',  # semi-transparent background\n",
    "                bordercolor='black',\n",
    "                borderwidth=1\n",
    "            ),\n",
    "            font=dict(family='ABC Whyte Unlicensed Trial', size=16),\n",
    "            template='plotly_white'\n",
    "        )\n",
    "        y2_title = y2_title if 'y2_title' in locals() else None\n",
    "        if y2_title:\n",
    "            fig.layout['yaxis2'] = dict(\n",
    "                title=y2_title,\n",
    "                tickformat=y2_tickformat,\n",
    "                overlaying='y',\n",
    "                side='right',\n",
    "                showgrid=False\n",
    "            )\n",
    "        fig.show(config={'scrollZoom': True})\n",
    "\n",
    "# Trigger updates\n",
    "for w in [date_slider, step_button, model_selector, BTC_DXY_selector]:\n",
    "    w.observe(update_plot, names='value')\n",
    "\n",
    "    \n",
    "\n",
    "hbox1 = widgets.HBox([date_slider, step_button])\n",
    "hbox1.layout.border = '0px solid transparent'\n",
    "hbox1.layout.border_bottom = '3px solid #eee'\n",
    "hbox1.layout.padding = '0 0 10px 0'  # Just bottom padding\n",
    "\n",
    "hbox2 = widgets.HBox([roffslider, ronslider, rerun])\n",
    "hbox2.layout.border = '0px solid transparent'\n",
    "hbox2.layout.border_bottom = '3px solid #eee'\n",
    "hbox2.layout.padding = '0 0 10px 0'  # Just bottom padding\n",
    "\n",
    "# No border on the last item\n",
    "vbox = widgets.VBox([hbox1, hbox2], \n",
    "layout=widgets.Layout(\n",
    "    gap='30px',\n",
    "    padding='30px',\n",
    "    height='200px',\n",
    "    justify_content='space-around'\n",
    "))\n",
    "\n",
    "display(widgets.HBox([model_selector, BTC_DXY_selector], layout=widgets.Layout(width='800px',\n",
    "    justify_content='space-between')), out, vbox)\n",
    "\n",
    "update_plot()"
   ]
  },
  {
   "cell_type": "code",
   "execution_count": null,
   "metadata": {
    "editable": true,
    "jupyter": {
     "source_hidden": true
    },
    "slideshow": {
     "slide_type": ""
    },
    "tags": []
   },
   "outputs": [],
   "source": []
  }
 ],
 "metadata": {
  "colab": {
   "provenance": []
  },
  "kernelspec": {
   "display_name": "Python 3 (ipykernel)",
   "language": "python",
   "name": "python3"
  },
  "language_info": {
   "codemirror_mode": {
    "name": "ipython",
    "version": 3
   },
   "file_extension": ".py",
   "mimetype": "text/x-python",
   "name": "python",
   "nbconvert_exporter": "python",
   "pygments_lexer": "ipython3",
   "version": "3.13.3"
  }
 },
 "nbformat": 4,
 "nbformat_minor": 4
}
